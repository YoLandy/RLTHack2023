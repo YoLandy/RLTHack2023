{
 "cells": [
  {
   "cell_type": "code",
   "execution_count": 64,
   "id": "b096f508",
   "metadata": {},
   "outputs": [],
   "source": [
    "import pandas as pd\n",
    "import numpy as np\n",
    "import datetime\n",
    "import xgboost\n",
    "\n",
    "from sklearn.preprocessing import MinMaxScaler\n",
    "from sklearn.impute import SimpleImputer\n",
    "from sklearn.linear_model import LogisticRegression\n",
    "from sklearn.model_selection import train_test_split\n",
    "from sklearn.ensemble import RandomForestClassifier"
   ]
  },
  {
   "cell_type": "code",
   "execution_count": 200,
   "id": "1689a4a4",
   "metadata": {},
   "outputs": [],
   "source": [
    "data = pd.read_json('suppliers.json')"
   ]
  },
  {
   "cell_type": "code",
   "execution_count": 201,
   "id": "3ed47291",
   "metadata": {},
   "outputs": [
    {
     "data": {
      "text/html": [
       "<div>\n",
       "<style scoped>\n",
       "    .dataframe tbody tr th:only-of-type {\n",
       "        vertical-align: middle;\n",
       "    }\n",
       "\n",
       "    .dataframe tbody tr th {\n",
       "        vertical-align: top;\n",
       "    }\n",
       "\n",
       "    .dataframe thead th {\n",
       "        text-align: right;\n",
       "    }\n",
       "</style>\n",
       "<table border=\"1\" class=\"dataframe\">\n",
       "  <thead>\n",
       "    <tr style=\"text-align: right;\">\n",
       "      <th></th>\n",
       "      <th>index</th>\n",
       "      <th>ogrn</th>\n",
       "      <th>reliability</th>\n",
       "      <th>reg_date</th>\n",
       "      <th>main_okved</th>\n",
       "      <th>additionalokveds</th>\n",
       "      <th>authorized_capital</th>\n",
       "      <th>workers</th>\n",
       "      <th>address</th>\n",
       "      <th>claimant</th>\n",
       "      <th>defendant</th>\n",
       "      <th>active_debts</th>\n",
       "      <th>completed_debts</th>\n",
       "      <th>status</th>\n",
       "      <th>RNP</th>\n",
       "      <th>facts</th>\n",
       "      <th>company_name</th>\n",
       "    </tr>\n",
       "  </thead>\n",
       "  <tbody>\n",
       "    <tr>\n",
       "      <th>0</th>\n",
       "      <td>0</td>\n",
       "      <td>1072721007721</td>\n",
       "      <td>высокая</td>\n",
       "      <td>26.04.2007</td>\n",
       "      <td>68.20</td>\n",
       "      <td>[46.43.1, 46.43.3, 46.45.1, 46.49.33, 46.51, 4...</td>\n",
       "      <td>20000.0</td>\n",
       "      <td>8.0</td>\n",
       "      <td>край Хабаровский г Хабаровск ул Льва Толстого ...</td>\n",
       "      <td>17</td>\n",
       "      <td>1</td>\n",
       "      <td>0.0</td>\n",
       "      <td>0</td>\n",
       "      <td>1.0</td>\n",
       "      <td>0.0</td>\n",
       "      <td>{'good': '24', 'normal': '6', 'bad': '0'}</td>\n",
       "      <td>ООО СК \"ЛУННЫЙ СВЕТ\"</td>\n",
       "    </tr>\n",
       "    <tr>\n",
       "      <th>1</th>\n",
       "      <td>1</td>\n",
       "      <td>1097746252548</td>\n",
       "      <td>средняя</td>\n",
       "      <td>27.04.2009</td>\n",
       "      <td>62.01</td>\n",
       "      <td>[58, 61.1, 61.10.1, 61.10.9, 62.02, 62.09, 63....</td>\n",
       "      <td>20005040.0</td>\n",
       "      <td>123.0</td>\n",
       "      <td>г Москва ул Житная Д. 10, ЭТАЖ 1, ПОМЕЩ. VI - ...</td>\n",
       "      <td>57</td>\n",
       "      <td>73</td>\n",
       "      <td>0.0</td>\n",
       "      <td>4</td>\n",
       "      <td>1.0</td>\n",
       "      <td>0.0</td>\n",
       "      <td>{'good': '17', 'normal': '6', 'bad': '8'}</td>\n",
       "      <td>АО \"ОТС\"</td>\n",
       "    </tr>\n",
       "    <tr>\n",
       "      <th>2</th>\n",
       "      <td>2</td>\n",
       "      <td>318619600041146</td>\n",
       "      <td>None</td>\n",
       "      <td>06.03.2018</td>\n",
       "      <td>43.31</td>\n",
       "      <td>[13.92, 13.92.1, 13.92.2, 13.99, 28.23, 33.20,...</td>\n",
       "      <td>NaN</td>\n",
       "      <td>NaN</td>\n",
       "      <td>обл Ростовская</td>\n",
       "      <td>0</td>\n",
       "      <td>0</td>\n",
       "      <td>0.0</td>\n",
       "      <td>0</td>\n",
       "      <td>1.0</td>\n",
       "      <td>0.0</td>\n",
       "      <td>None</td>\n",
       "      <td>ИП АСКАЛЕПОВ С. Н.</td>\n",
       "    </tr>\n",
       "    <tr>\n",
       "      <th>3</th>\n",
       "      <td>3</td>\n",
       "      <td>1207700142616</td>\n",
       "      <td>высокая</td>\n",
       "      <td>27.03.2020</td>\n",
       "      <td>18.13</td>\n",
       "      <td>[18.12, 46.14.1, 46.15, 46.15.4, 46.15.9, 46.1...</td>\n",
       "      <td>10000.0</td>\n",
       "      <td>6.0</td>\n",
       "      <td>г Москва проезд Нагатинский 1-й Д. 6, СТР. 1, ...</td>\n",
       "      <td>455</td>\n",
       "      <td>0</td>\n",
       "      <td>0.0</td>\n",
       "      <td>0</td>\n",
       "      <td>1.0</td>\n",
       "      <td>0.0</td>\n",
       "      <td>{'good': '21', 'normal': '4', 'bad': '4'}</td>\n",
       "      <td>ООО \"ИНТЕРПАКС\"</td>\n",
       "    </tr>\n",
       "    <tr>\n",
       "      <th>4</th>\n",
       "      <td>4</td>\n",
       "      <td>1027402933040</td>\n",
       "      <td>высокая</td>\n",
       "      <td>30.12.2002</td>\n",
       "      <td>46.49</td>\n",
       "      <td>[22.22, 22.23, 22.29, 25.99, 43.21, 43.99, 46....</td>\n",
       "      <td>8400.0</td>\n",
       "      <td>53.0</td>\n",
       "      <td>обл Челябинская г Челябинск ул Телеграфная Д. 44</td>\n",
       "      <td>36</td>\n",
       "      <td>2</td>\n",
       "      <td>0.0</td>\n",
       "      <td>1</td>\n",
       "      <td>1.0</td>\n",
       "      <td>0.0</td>\n",
       "      <td>{'good': '19', 'normal': '8', 'bad': '2'}</td>\n",
       "      <td>ООО \"КАНЦБЮРО\"</td>\n",
       "    </tr>\n",
       "    <tr>\n",
       "      <th>...</th>\n",
       "      <td>...</td>\n",
       "      <td>...</td>\n",
       "      <td>...</td>\n",
       "      <td>...</td>\n",
       "      <td>...</td>\n",
       "      <td>...</td>\n",
       "      <td>...</td>\n",
       "      <td>...</td>\n",
       "      <td>...</td>\n",
       "      <td>...</td>\n",
       "      <td>...</td>\n",
       "      <td>...</td>\n",
       "      <td>...</td>\n",
       "      <td>...</td>\n",
       "      <td>...</td>\n",
       "      <td>...</td>\n",
       "      <td>...</td>\n",
       "    </tr>\n",
       "    <tr>\n",
       "      <th>2659</th>\n",
       "      <td>1207</td>\n",
       "      <td>317774600053292</td>\n",
       "      <td>None</td>\n",
       "      <td>06.02.2017</td>\n",
       "      <td>95.22.1</td>\n",
       "      <td>[33.12, 43.22, 43.29, 46.43.1, 46.44.2, 46.49,...</td>\n",
       "      <td>NaN</td>\n",
       "      <td>NaN</td>\n",
       "      <td>г Москва</td>\n",
       "      <td>0</td>\n",
       "      <td>0</td>\n",
       "      <td>0.0</td>\n",
       "      <td>0</td>\n",
       "      <td>1.0</td>\n",
       "      <td>0.0</td>\n",
       "      <td>None</td>\n",
       "      <td>ИП Иванов Владимир Серафимович</td>\n",
       "    </tr>\n",
       "    <tr>\n",
       "      <th>2660</th>\n",
       "      <td>1208</td>\n",
       "      <td>1157746901290</td>\n",
       "      <td>низкая</td>\n",
       "      <td>01.10.2015</td>\n",
       "      <td>46.69.9</td>\n",
       "      <td>[32.50, 43.21, 47.43, 47.54, 49.31, 49.32, 49....</td>\n",
       "      <td>10000.0</td>\n",
       "      <td>11.0</td>\n",
       "      <td>г Москва ул Кржижановского Д. 29, К. 5, ЭТАЖ 4...</td>\n",
       "      <td>0</td>\n",
       "      <td>12</td>\n",
       "      <td>1.0</td>\n",
       "      <td>6</td>\n",
       "      <td>1.0</td>\n",
       "      <td>0.0</td>\n",
       "      <td>{'good': '15', 'normal': '4', 'bad': '1'}</td>\n",
       "      <td>ООО \"ЭНЕРГИЯ\"</td>\n",
       "    </tr>\n",
       "    <tr>\n",
       "      <th>2661</th>\n",
       "      <td>1209</td>\n",
       "      <td>318774600577420</td>\n",
       "      <td>None</td>\n",
       "      <td>23.10.2018</td>\n",
       "      <td>62.02</td>\n",
       "      <td>[41.20, 42.22, 42.99, 45.20, 47.41, 49.32, 53....</td>\n",
       "      <td>NaN</td>\n",
       "      <td>NaN</td>\n",
       "      <td>г Москва</td>\n",
       "      <td>0</td>\n",
       "      <td>0</td>\n",
       "      <td>0.0</td>\n",
       "      <td>0</td>\n",
       "      <td>0.0</td>\n",
       "      <td>0.0</td>\n",
       "      <td>None</td>\n",
       "      <td>ИП Таничева Любовь Геннадьевна</td>\n",
       "    </tr>\n",
       "    <tr>\n",
       "      <th>2662</th>\n",
       "      <td>1210</td>\n",
       "      <td>316774600516140</td>\n",
       "      <td>None</td>\n",
       "      <td>29.11.2016</td>\n",
       "      <td>31.01</td>\n",
       "      <td>[26.11, 26.12, 26.20, 28.23, 28.99, 31.02, 31....</td>\n",
       "      <td>NaN</td>\n",
       "      <td>NaN</td>\n",
       "      <td>г Москва</td>\n",
       "      <td>0</td>\n",
       "      <td>1</td>\n",
       "      <td>0.0</td>\n",
       "      <td>0</td>\n",
       "      <td>1.0</td>\n",
       "      <td>0.0</td>\n",
       "      <td>None</td>\n",
       "      <td>ИП Левченко Григорий Александрович</td>\n",
       "    </tr>\n",
       "    <tr>\n",
       "      <th>2663</th>\n",
       "      <td>1211</td>\n",
       "      <td>319774600223965</td>\n",
       "      <td>None</td>\n",
       "      <td>09.04.2019</td>\n",
       "      <td>46.49.33</td>\n",
       "      <td>[46.41, 46.42, 46.43, 46.44, 46.45, 46.47, 46....</td>\n",
       "      <td>NaN</td>\n",
       "      <td>NaN</td>\n",
       "      <td>г Москва</td>\n",
       "      <td>0</td>\n",
       "      <td>0</td>\n",
       "      <td>0.0</td>\n",
       "      <td>0</td>\n",
       "      <td>0.0</td>\n",
       "      <td>0.0</td>\n",
       "      <td>None</td>\n",
       "      <td>ИП Амалиева Тамара Тимирхановна</td>\n",
       "    </tr>\n",
       "  </tbody>\n",
       "</table>\n",
       "<p>2664 rows × 17 columns</p>\n",
       "</div>"
      ],
      "text/plain": [
       "      index             ogrn reliability    reg_date main_okved  \\\n",
       "0         0    1072721007721     высокая  26.04.2007      68.20   \n",
       "1         1    1097746252548     средняя  27.04.2009      62.01   \n",
       "2         2  318619600041146        None  06.03.2018      43.31   \n",
       "3         3    1207700142616     высокая  27.03.2020      18.13   \n",
       "4         4    1027402933040     высокая  30.12.2002      46.49   \n",
       "...     ...              ...         ...         ...        ...   \n",
       "2659   1207  317774600053292        None  06.02.2017    95.22.1   \n",
       "2660   1208    1157746901290      низкая  01.10.2015    46.69.9   \n",
       "2661   1209  318774600577420        None  23.10.2018      62.02   \n",
       "2662   1210  316774600516140        None  29.11.2016      31.01   \n",
       "2663   1211  319774600223965        None  09.04.2019   46.49.33   \n",
       "\n",
       "                                       additionalokveds  authorized_capital  \\\n",
       "0     [46.43.1, 46.43.3, 46.45.1, 46.49.33, 46.51, 4...             20000.0   \n",
       "1     [58, 61.1, 61.10.1, 61.10.9, 62.02, 62.09, 63....          20005040.0   \n",
       "2     [13.92, 13.92.1, 13.92.2, 13.99, 28.23, 33.20,...                 NaN   \n",
       "3     [18.12, 46.14.1, 46.15, 46.15.4, 46.15.9, 46.1...             10000.0   \n",
       "4     [22.22, 22.23, 22.29, 25.99, 43.21, 43.99, 46....              8400.0   \n",
       "...                                                 ...                 ...   \n",
       "2659  [33.12, 43.22, 43.29, 46.43.1, 46.44.2, 46.49,...                 NaN   \n",
       "2660  [32.50, 43.21, 47.43, 47.54, 49.31, 49.32, 49....             10000.0   \n",
       "2661  [41.20, 42.22, 42.99, 45.20, 47.41, 49.32, 53....                 NaN   \n",
       "2662  [26.11, 26.12, 26.20, 28.23, 28.99, 31.02, 31....                 NaN   \n",
       "2663  [46.41, 46.42, 46.43, 46.44, 46.45, 46.47, 46....                 NaN   \n",
       "\n",
       "      workers                                            address claimant  \\\n",
       "0         8.0  край Хабаровский г Хабаровск ул Льва Толстого ...       17   \n",
       "1       123.0  г Москва ул Житная Д. 10, ЭТАЖ 1, ПОМЕЩ. VI - ...       57   \n",
       "2         NaN                                     обл Ростовская        0   \n",
       "3         6.0  г Москва проезд Нагатинский 1-й Д. 6, СТР. 1, ...      455   \n",
       "4        53.0   обл Челябинская г Челябинск ул Телеграфная Д. 44       36   \n",
       "...       ...                                                ...      ...   \n",
       "2659      NaN                                           г Москва        0   \n",
       "2660     11.0  г Москва ул Кржижановского Д. 29, К. 5, ЭТАЖ 4...        0   \n",
       "2661      NaN                                           г Москва        0   \n",
       "2662      NaN                                           г Москва        0   \n",
       "2663      NaN                                           г Москва        0   \n",
       "\n",
       "     defendant  active_debts completed_debts  status  RNP  \\\n",
       "0            1           0.0               0     1.0  0.0   \n",
       "1           73           0.0               4     1.0  0.0   \n",
       "2            0           0.0               0     1.0  0.0   \n",
       "3            0           0.0               0     1.0  0.0   \n",
       "4            2           0.0               1     1.0  0.0   \n",
       "...        ...           ...             ...     ...  ...   \n",
       "2659         0           0.0               0     1.0  0.0   \n",
       "2660        12           1.0               6     1.0  0.0   \n",
       "2661         0           0.0               0     0.0  0.0   \n",
       "2662         1           0.0               0     1.0  0.0   \n",
       "2663         0           0.0               0     0.0  0.0   \n",
       "\n",
       "                                          facts  \\\n",
       "0     {'good': '24', 'normal': '6', 'bad': '0'}   \n",
       "1     {'good': '17', 'normal': '6', 'bad': '8'}   \n",
       "2                                          None   \n",
       "3     {'good': '21', 'normal': '4', 'bad': '4'}   \n",
       "4     {'good': '19', 'normal': '8', 'bad': '2'}   \n",
       "...                                         ...   \n",
       "2659                                       None   \n",
       "2660  {'good': '15', 'normal': '4', 'bad': '1'}   \n",
       "2661                                       None   \n",
       "2662                                       None   \n",
       "2663                                       None   \n",
       "\n",
       "                            company_name  \n",
       "0                   ООО СК \"ЛУННЫЙ СВЕТ\"  \n",
       "1                               АО \"ОТС\"  \n",
       "2                     ИП АСКАЛЕПОВ С. Н.  \n",
       "3                        ООО \"ИНТЕРПАКС\"  \n",
       "4                         ООО \"КАНЦБЮРО\"  \n",
       "...                                  ...  \n",
       "2659      ИП Иванов Владимир Серафимович  \n",
       "2660                       ООО \"ЭНЕРГИЯ\"  \n",
       "2661      ИП Таничева Любовь Геннадьевна  \n",
       "2662  ИП Левченко Григорий Александрович  \n",
       "2663     ИП Амалиева Тамара Тимирхановна  \n",
       "\n",
       "[2664 rows x 17 columns]"
      ]
     },
     "execution_count": 201,
     "metadata": {},
     "output_type": "execute_result"
    }
   ],
   "source": [
    "data"
   ]
  },
  {
   "cell_type": "code",
   "execution_count": 202,
   "id": "4f273a80",
   "metadata": {
    "scrolled": true
   },
   "outputs": [
    {
     "data": {
      "text/html": [
       "<div>\n",
       "<style scoped>\n",
       "    .dataframe tbody tr th:only-of-type {\n",
       "        vertical-align: middle;\n",
       "    }\n",
       "\n",
       "    .dataframe tbody tr th {\n",
       "        vertical-align: top;\n",
       "    }\n",
       "\n",
       "    .dataframe thead th {\n",
       "        text-align: right;\n",
       "    }\n",
       "</style>\n",
       "<table border=\"1\" class=\"dataframe\">\n",
       "  <thead>\n",
       "    <tr style=\"text-align: right;\">\n",
       "      <th></th>\n",
       "      <th>index</th>\n",
       "      <th>ogrn</th>\n",
       "      <th>reliability</th>\n",
       "      <th>reg_date</th>\n",
       "      <th>main_okved</th>\n",
       "      <th>additionalokveds</th>\n",
       "      <th>authorized_capital</th>\n",
       "      <th>workers</th>\n",
       "      <th>address</th>\n",
       "      <th>claimant</th>\n",
       "      <th>defendant</th>\n",
       "      <th>active_debts</th>\n",
       "      <th>completed_debts</th>\n",
       "      <th>status</th>\n",
       "      <th>RNP</th>\n",
       "      <th>facts</th>\n",
       "      <th>company_name</th>\n",
       "    </tr>\n",
       "  </thead>\n",
       "  <tbody>\n",
       "    <tr>\n",
       "      <th>0</th>\n",
       "      <td>0</td>\n",
       "      <td>1072721007721</td>\n",
       "      <td>высокая</td>\n",
       "      <td>26.04.2007</td>\n",
       "      <td>68.20</td>\n",
       "      <td>[46.43.1, 46.43.3, 46.45.1, 46.49.33, 46.51, 4...</td>\n",
       "      <td>20000.0</td>\n",
       "      <td>8.0</td>\n",
       "      <td>край Хабаровский г Хабаровск ул Льва Толстого ...</td>\n",
       "      <td>17</td>\n",
       "      <td>1</td>\n",
       "      <td>0.0</td>\n",
       "      <td>0</td>\n",
       "      <td>1.0</td>\n",
       "      <td>0.0</td>\n",
       "      <td>{'good': '24', 'normal': '6', 'bad': '0'}</td>\n",
       "      <td>ООО СК \"ЛУННЫЙ СВЕТ\"</td>\n",
       "    </tr>\n",
       "    <tr>\n",
       "      <th>1</th>\n",
       "      <td>1</td>\n",
       "      <td>1097746252548</td>\n",
       "      <td>средняя</td>\n",
       "      <td>27.04.2009</td>\n",
       "      <td>62.01</td>\n",
       "      <td>[58, 61.1, 61.10.1, 61.10.9, 62.02, 62.09, 63....</td>\n",
       "      <td>20005040.0</td>\n",
       "      <td>123.0</td>\n",
       "      <td>г Москва ул Житная Д. 10, ЭТАЖ 1, ПОМЕЩ. VI - ...</td>\n",
       "      <td>57</td>\n",
       "      <td>73</td>\n",
       "      <td>0.0</td>\n",
       "      <td>4</td>\n",
       "      <td>1.0</td>\n",
       "      <td>0.0</td>\n",
       "      <td>{'good': '17', 'normal': '6', 'bad': '8'}</td>\n",
       "      <td>АО \"ОТС\"</td>\n",
       "    </tr>\n",
       "    <tr>\n",
       "      <th>2</th>\n",
       "      <td>2</td>\n",
       "      <td>318619600041146</td>\n",
       "      <td>None</td>\n",
       "      <td>06.03.2018</td>\n",
       "      <td>43.31</td>\n",
       "      <td>[13.92, 13.92.1, 13.92.2, 13.99, 28.23, 33.20,...</td>\n",
       "      <td>NaN</td>\n",
       "      <td>NaN</td>\n",
       "      <td>обл Ростовская</td>\n",
       "      <td>0</td>\n",
       "      <td>0</td>\n",
       "      <td>0.0</td>\n",
       "      <td>0</td>\n",
       "      <td>1.0</td>\n",
       "      <td>0.0</td>\n",
       "      <td>None</td>\n",
       "      <td>ИП АСКАЛЕПОВ С. Н.</td>\n",
       "    </tr>\n",
       "    <tr>\n",
       "      <th>3</th>\n",
       "      <td>3</td>\n",
       "      <td>1207700142616</td>\n",
       "      <td>высокая</td>\n",
       "      <td>27.03.2020</td>\n",
       "      <td>18.13</td>\n",
       "      <td>[18.12, 46.14.1, 46.15, 46.15.4, 46.15.9, 46.1...</td>\n",
       "      <td>10000.0</td>\n",
       "      <td>6.0</td>\n",
       "      <td>г Москва проезд Нагатинский 1-й Д. 6, СТР. 1, ...</td>\n",
       "      <td>455</td>\n",
       "      <td>0</td>\n",
       "      <td>0.0</td>\n",
       "      <td>0</td>\n",
       "      <td>1.0</td>\n",
       "      <td>0.0</td>\n",
       "      <td>{'good': '21', 'normal': '4', 'bad': '4'}</td>\n",
       "      <td>ООО \"ИНТЕРПАКС\"</td>\n",
       "    </tr>\n",
       "    <tr>\n",
       "      <th>4</th>\n",
       "      <td>4</td>\n",
       "      <td>1027402933040</td>\n",
       "      <td>высокая</td>\n",
       "      <td>30.12.2002</td>\n",
       "      <td>46.49</td>\n",
       "      <td>[22.22, 22.23, 22.29, 25.99, 43.21, 43.99, 46....</td>\n",
       "      <td>8400.0</td>\n",
       "      <td>53.0</td>\n",
       "      <td>обл Челябинская г Челябинск ул Телеграфная Д. 44</td>\n",
       "      <td>36</td>\n",
       "      <td>2</td>\n",
       "      <td>0.0</td>\n",
       "      <td>1</td>\n",
       "      <td>1.0</td>\n",
       "      <td>0.0</td>\n",
       "      <td>{'good': '19', 'normal': '8', 'bad': '2'}</td>\n",
       "      <td>ООО \"КАНЦБЮРО\"</td>\n",
       "    </tr>\n",
       "  </tbody>\n",
       "</table>\n",
       "</div>"
      ],
      "text/plain": [
       "   index             ogrn reliability    reg_date main_okved  \\\n",
       "0      0    1072721007721     высокая  26.04.2007      68.20   \n",
       "1      1    1097746252548     средняя  27.04.2009      62.01   \n",
       "2      2  318619600041146        None  06.03.2018      43.31   \n",
       "3      3    1207700142616     высокая  27.03.2020      18.13   \n",
       "4      4    1027402933040     высокая  30.12.2002      46.49   \n",
       "\n",
       "                                    additionalokveds  authorized_capital  \\\n",
       "0  [46.43.1, 46.43.3, 46.45.1, 46.49.33, 46.51, 4...             20000.0   \n",
       "1  [58, 61.1, 61.10.1, 61.10.9, 62.02, 62.09, 63....          20005040.0   \n",
       "2  [13.92, 13.92.1, 13.92.2, 13.99, 28.23, 33.20,...                 NaN   \n",
       "3  [18.12, 46.14.1, 46.15, 46.15.4, 46.15.9, 46.1...             10000.0   \n",
       "4  [22.22, 22.23, 22.29, 25.99, 43.21, 43.99, 46....              8400.0   \n",
       "\n",
       "   workers                                            address claimant  \\\n",
       "0      8.0  край Хабаровский г Хабаровск ул Льва Толстого ...       17   \n",
       "1    123.0  г Москва ул Житная Д. 10, ЭТАЖ 1, ПОМЕЩ. VI - ...       57   \n",
       "2      NaN                                     обл Ростовская        0   \n",
       "3      6.0  г Москва проезд Нагатинский 1-й Д. 6, СТР. 1, ...      455   \n",
       "4     53.0   обл Челябинская г Челябинск ул Телеграфная Д. 44       36   \n",
       "\n",
       "  defendant  active_debts completed_debts  status  RNP  \\\n",
       "0         1           0.0               0     1.0  0.0   \n",
       "1        73           0.0               4     1.0  0.0   \n",
       "2         0           0.0               0     1.0  0.0   \n",
       "3         0           0.0               0     1.0  0.0   \n",
       "4         2           0.0               1     1.0  0.0   \n",
       "\n",
       "                                       facts          company_name  \n",
       "0  {'good': '24', 'normal': '6', 'bad': '0'}  ООО СК \"ЛУННЫЙ СВЕТ\"  \n",
       "1  {'good': '17', 'normal': '6', 'bad': '8'}              АО \"ОТС\"  \n",
       "2                                       None    ИП АСКАЛЕПОВ С. Н.  \n",
       "3  {'good': '21', 'normal': '4', 'bad': '4'}       ООО \"ИНТЕРПАКС\"  \n",
       "4  {'good': '19', 'normal': '8', 'bad': '2'}        ООО \"КАНЦБЮРО\"  "
      ]
     },
     "execution_count": 202,
     "metadata": {},
     "output_type": "execute_result"
    }
   ],
   "source": [
    "data.head()"
   ]
  },
  {
   "cell_type": "markdown",
   "id": "5fda041a",
   "metadata": {},
   "source": [
    "### Классы не сбалансированы ### "
   ]
  },
  {
   "cell_type": "code",
   "execution_count": 203,
   "id": "abe2bcc9",
   "metadata": {},
   "outputs": [
    {
     "data": {
      "text/plain": [
       "высокая    1568\n",
       "низкая      276\n",
       "средняя      27\n",
       "Name: reliability, dtype: int64"
      ]
     },
     "execution_count": 203,
     "metadata": {},
     "output_type": "execute_result"
    }
   ],
   "source": [
    "data['reliability'].value_counts()"
   ]
  },
  {
   "cell_type": "code",
   "execution_count": 204,
   "id": "8cab9a5c",
   "metadata": {},
   "outputs": [
    {
     "data": {
      "text/plain": [
       "5.681159420289855"
      ]
     },
     "execution_count": 204,
     "metadata": {},
     "output_type": "execute_result"
    }
   ],
   "source": [
    "1568 / 276"
   ]
  },
  {
   "cell_type": "code",
   "execution_count": 231,
   "id": "65c6c677",
   "metadata": {},
   "outputs": [
    {
     "data": {
      "text/plain": [
       "0.1760204081632653"
      ]
     },
     "execution_count": 231,
     "metadata": {},
     "output_type": "execute_result"
    }
   ],
   "source": [
    "276/1568"
   ]
  },
  {
   "cell_type": "code",
   "execution_count": 205,
   "id": "16815bff",
   "metadata": {},
   "outputs": [],
   "source": [
    "features = ['days_existed', 'authorized_capital', 'workers',\n",
    "           'claimant', 'defendant', 'active_debts', \n",
    "           'completed_debts', 'RNP']\n",
    "\n",
    "ans = ['reliability']"
   ]
  },
  {
   "cell_type": "code",
   "execution_count": 206,
   "id": "a1428a32",
   "metadata": {},
   "outputs": [],
   "source": [
    "def count_days(reg_date):\n",
    "    if reg_date == None:\n",
    "        return None\n",
    "    \n",
    "    try: \n",
    "        date = str(reg_date)\n",
    "        day, month, year = list(map(int, date.split('.')))\n",
    "        today = datetime.datetime.now()\n",
    "        bday = datetime.datetime(year, month, day, 11, 59)\n",
    "        time_diff = today - bday\n",
    "\n",
    "        return time_diff.days\n",
    "    except:\n",
    "        return None"
   ]
  },
  {
   "cell_type": "code",
   "execution_count": 207,
   "id": "f6234ab0",
   "metadata": {},
   "outputs": [],
   "source": [
    "data['days_existed'] = data['reg_date'].apply(count_days)"
   ]
  },
  {
   "cell_type": "code",
   "execution_count": 208,
   "id": "6195e2b6",
   "metadata": {},
   "outputs": [
    {
     "data": {
      "text/html": [
       "<div>\n",
       "<style scoped>\n",
       "    .dataframe tbody tr th:only-of-type {\n",
       "        vertical-align: middle;\n",
       "    }\n",
       "\n",
       "    .dataframe tbody tr th {\n",
       "        vertical-align: top;\n",
       "    }\n",
       "\n",
       "    .dataframe thead th {\n",
       "        text-align: right;\n",
       "    }\n",
       "</style>\n",
       "<table border=\"1\" class=\"dataframe\">\n",
       "  <thead>\n",
       "    <tr style=\"text-align: right;\">\n",
       "      <th></th>\n",
       "      <th>index</th>\n",
       "      <th>ogrn</th>\n",
       "      <th>reliability</th>\n",
       "      <th>reg_date</th>\n",
       "      <th>main_okved</th>\n",
       "      <th>additionalokveds</th>\n",
       "      <th>authorized_capital</th>\n",
       "      <th>workers</th>\n",
       "      <th>address</th>\n",
       "      <th>claimant</th>\n",
       "      <th>defendant</th>\n",
       "      <th>active_debts</th>\n",
       "      <th>completed_debts</th>\n",
       "      <th>status</th>\n",
       "      <th>RNP</th>\n",
       "      <th>facts</th>\n",
       "      <th>company_name</th>\n",
       "      <th>days_existed</th>\n",
       "    </tr>\n",
       "  </thead>\n",
       "  <tbody>\n",
       "    <tr>\n",
       "      <th>0</th>\n",
       "      <td>0</td>\n",
       "      <td>1072721007721</td>\n",
       "      <td>высокая</td>\n",
       "      <td>26.04.2007</td>\n",
       "      <td>68.20</td>\n",
       "      <td>[46.43.1, 46.43.3, 46.45.1, 46.49.33, 46.51, 4...</td>\n",
       "      <td>20000.0</td>\n",
       "      <td>8.0</td>\n",
       "      <td>край Хабаровский г Хабаровск ул Льва Толстого ...</td>\n",
       "      <td>17</td>\n",
       "      <td>1</td>\n",
       "      <td>0.0</td>\n",
       "      <td>0</td>\n",
       "      <td>1.0</td>\n",
       "      <td>0.0</td>\n",
       "      <td>{'good': '24', 'normal': '6', 'bad': '0'}</td>\n",
       "      <td>ООО СК \"ЛУННЫЙ СВЕТ\"</td>\n",
       "      <td>6002.0</td>\n",
       "    </tr>\n",
       "    <tr>\n",
       "      <th>1</th>\n",
       "      <td>1</td>\n",
       "      <td>1097746252548</td>\n",
       "      <td>средняя</td>\n",
       "      <td>27.04.2009</td>\n",
       "      <td>62.01</td>\n",
       "      <td>[58, 61.1, 61.10.1, 61.10.9, 62.02, 62.09, 63....</td>\n",
       "      <td>20005040.0</td>\n",
       "      <td>123.0</td>\n",
       "      <td>г Москва ул Житная Д. 10, ЭТАЖ 1, ПОМЕЩ. VI - ...</td>\n",
       "      <td>57</td>\n",
       "      <td>73</td>\n",
       "      <td>0.0</td>\n",
       "      <td>4</td>\n",
       "      <td>1.0</td>\n",
       "      <td>0.0</td>\n",
       "      <td>{'good': '17', 'normal': '6', 'bad': '8'}</td>\n",
       "      <td>АО \"ОТС\"</td>\n",
       "      <td>5270.0</td>\n",
       "    </tr>\n",
       "    <tr>\n",
       "      <th>2</th>\n",
       "      <td>2</td>\n",
       "      <td>318619600041146</td>\n",
       "      <td>None</td>\n",
       "      <td>06.03.2018</td>\n",
       "      <td>43.31</td>\n",
       "      <td>[13.92, 13.92.1, 13.92.2, 13.99, 28.23, 33.20,...</td>\n",
       "      <td>NaN</td>\n",
       "      <td>NaN</td>\n",
       "      <td>обл Ростовская</td>\n",
       "      <td>0</td>\n",
       "      <td>0</td>\n",
       "      <td>0.0</td>\n",
       "      <td>0</td>\n",
       "      <td>1.0</td>\n",
       "      <td>0.0</td>\n",
       "      <td>None</td>\n",
       "      <td>ИП АСКАЛЕПОВ С. Н.</td>\n",
       "      <td>2035.0</td>\n",
       "    </tr>\n",
       "    <tr>\n",
       "      <th>3</th>\n",
       "      <td>3</td>\n",
       "      <td>1207700142616</td>\n",
       "      <td>высокая</td>\n",
       "      <td>27.03.2020</td>\n",
       "      <td>18.13</td>\n",
       "      <td>[18.12, 46.14.1, 46.15, 46.15.4, 46.15.9, 46.1...</td>\n",
       "      <td>10000.0</td>\n",
       "      <td>6.0</td>\n",
       "      <td>г Москва проезд Нагатинский 1-й Д. 6, СТР. 1, ...</td>\n",
       "      <td>455</td>\n",
       "      <td>0</td>\n",
       "      <td>0.0</td>\n",
       "      <td>0</td>\n",
       "      <td>1.0</td>\n",
       "      <td>0.0</td>\n",
       "      <td>{'good': '21', 'normal': '4', 'bad': '4'}</td>\n",
       "      <td>ООО \"ИНТЕРПАКС\"</td>\n",
       "      <td>1283.0</td>\n",
       "    </tr>\n",
       "    <tr>\n",
       "      <th>4</th>\n",
       "      <td>4</td>\n",
       "      <td>1027402933040</td>\n",
       "      <td>высокая</td>\n",
       "      <td>30.12.2002</td>\n",
       "      <td>46.49</td>\n",
       "      <td>[22.22, 22.23, 22.29, 25.99, 43.21, 43.99, 46....</td>\n",
       "      <td>8400.0</td>\n",
       "      <td>53.0</td>\n",
       "      <td>обл Челябинская г Челябинск ул Телеграфная Д. 44</td>\n",
       "      <td>36</td>\n",
       "      <td>2</td>\n",
       "      <td>0.0</td>\n",
       "      <td>1</td>\n",
       "      <td>1.0</td>\n",
       "      <td>0.0</td>\n",
       "      <td>{'good': '19', 'normal': '8', 'bad': '2'}</td>\n",
       "      <td>ООО \"КАНЦБЮРО\"</td>\n",
       "      <td>7580.0</td>\n",
       "    </tr>\n",
       "  </tbody>\n",
       "</table>\n",
       "</div>"
      ],
      "text/plain": [
       "   index             ogrn reliability    reg_date main_okved  \\\n",
       "0      0    1072721007721     высокая  26.04.2007      68.20   \n",
       "1      1    1097746252548     средняя  27.04.2009      62.01   \n",
       "2      2  318619600041146        None  06.03.2018      43.31   \n",
       "3      3    1207700142616     высокая  27.03.2020      18.13   \n",
       "4      4    1027402933040     высокая  30.12.2002      46.49   \n",
       "\n",
       "                                    additionalokveds  authorized_capital  \\\n",
       "0  [46.43.1, 46.43.3, 46.45.1, 46.49.33, 46.51, 4...             20000.0   \n",
       "1  [58, 61.1, 61.10.1, 61.10.9, 62.02, 62.09, 63....          20005040.0   \n",
       "2  [13.92, 13.92.1, 13.92.2, 13.99, 28.23, 33.20,...                 NaN   \n",
       "3  [18.12, 46.14.1, 46.15, 46.15.4, 46.15.9, 46.1...             10000.0   \n",
       "4  [22.22, 22.23, 22.29, 25.99, 43.21, 43.99, 46....              8400.0   \n",
       "\n",
       "   workers                                            address claimant  \\\n",
       "0      8.0  край Хабаровский г Хабаровск ул Льва Толстого ...       17   \n",
       "1    123.0  г Москва ул Житная Д. 10, ЭТАЖ 1, ПОМЕЩ. VI - ...       57   \n",
       "2      NaN                                     обл Ростовская        0   \n",
       "3      6.0  г Москва проезд Нагатинский 1-й Д. 6, СТР. 1, ...      455   \n",
       "4     53.0   обл Челябинская г Челябинск ул Телеграфная Д. 44       36   \n",
       "\n",
       "  defendant  active_debts completed_debts  status  RNP  \\\n",
       "0         1           0.0               0     1.0  0.0   \n",
       "1        73           0.0               4     1.0  0.0   \n",
       "2         0           0.0               0     1.0  0.0   \n",
       "3         0           0.0               0     1.0  0.0   \n",
       "4         2           0.0               1     1.0  0.0   \n",
       "\n",
       "                                       facts          company_name  \\\n",
       "0  {'good': '24', 'normal': '6', 'bad': '0'}  ООО СК \"ЛУННЫЙ СВЕТ\"   \n",
       "1  {'good': '17', 'normal': '6', 'bad': '8'}              АО \"ОТС\"   \n",
       "2                                       None    ИП АСКАЛЕПОВ С. Н.   \n",
       "3  {'good': '21', 'normal': '4', 'bad': '4'}       ООО \"ИНТЕРПАКС\"   \n",
       "4  {'good': '19', 'normal': '8', 'bad': '2'}        ООО \"КАНЦБЮРО\"   \n",
       "\n",
       "   days_existed  \n",
       "0        6002.0  \n",
       "1        5270.0  \n",
       "2        2035.0  \n",
       "3        1283.0  \n",
       "4        7580.0  "
      ]
     },
     "execution_count": 208,
     "metadata": {},
     "output_type": "execute_result"
    }
   ],
   "source": [
    "data.head()"
   ]
  },
  {
   "cell_type": "code",
   "execution_count": 229,
   "id": "4d1d2f9f",
   "metadata": {},
   "outputs": [
    {
     "data": {
      "text/plain": [
       "2664"
      ]
     },
     "execution_count": 229,
     "metadata": {},
     "output_type": "execute_result"
    }
   ],
   "source": [
    "len(data)"
   ]
  },
  {
   "cell_type": "markdown",
   "id": "f0a751af",
   "metadata": {},
   "source": [
    "## Предобработка данных ##"
   ]
  },
  {
   "cell_type": "markdown",
   "id": "dfcb652e",
   "metadata": {},
   "source": [
    "Обрабатываем пропуски + нормализуем данные"
   ]
  },
  {
   "cell_type": "code",
   "execution_count": 209,
   "id": "14c6843d",
   "metadata": {},
   "outputs": [],
   "source": [
    "X_raw = (data.dropna(subset=ans))[features].to_numpy()\n",
    "y_raw = (data.dropna(subset=ans))[ans].to_numpy()"
   ]
  },
  {
   "cell_type": "code",
   "execution_count": 210,
   "id": "36e54f3a",
   "metadata": {},
   "outputs": [],
   "source": [
    "def convert2float(array2d, dtp, np_dtp):\n",
    "    new_arr = np.zeros_like(array2d, dtype=np_dtp)\n",
    "    \n",
    "    for i in range(array2d.shape[0]):\n",
    "        for j in range(array2d.shape[1]):\n",
    "            try:\n",
    "                new_arr[i][j] = dtp(array2d[i][j])\n",
    "            except:\n",
    "                new_arr[i][j] = np.nan\n",
    "                \n",
    "    return new_arr"
   ]
  },
  {
   "cell_type": "code",
   "execution_count": 211,
   "id": "195b02ae",
   "metadata": {},
   "outputs": [],
   "source": [
    "X = convert2float(X_raw, float, np.float32)\n",
    "y = convert2float(y_raw, str, '<U10')"
   ]
  },
  {
   "cell_type": "code",
   "execution_count": 212,
   "id": "68622fb7",
   "metadata": {},
   "outputs": [
    {
     "data": {
      "text/plain": [
       "array([['высокая'],\n",
       "       ['средняя'],\n",
       "       ['высокая'],\n",
       "       ['высокая'],\n",
       "       ['высокая']], dtype='<U10')"
      ]
     },
     "execution_count": 212,
     "metadata": {},
     "output_type": "execute_result"
    }
   ],
   "source": [
    "y[0:5]"
   ]
  },
  {
   "cell_type": "code",
   "execution_count": 213,
   "id": "4e84a625",
   "metadata": {},
   "outputs": [],
   "source": [
    "imp_mean = SimpleImputer(missing_values=np.nan,\n",
    "                         strategy='median')\n",
    "imp_mean.fit(X, y)\n",
    "X = imp_mean.transform(X)"
   ]
  },
  {
   "cell_type": "code",
   "execution_count": 214,
   "id": "04336e98",
   "metadata": {},
   "outputs": [],
   "source": [
    "scaler = MinMaxScaler()\n",
    "scaler.fit(X)\n",
    "X = scaler.transform(X)"
   ]
  },
  {
   "cell_type": "code",
   "execution_count": 215,
   "id": "75a8b389",
   "metadata": {},
   "outputs": [],
   "source": [
    "X_train, X_test, y_train, y_test = train_test_split( \\\n",
    "            X, y.squeeze(), test_size=0.20, shuffle=True)"
   ]
  },
  {
   "cell_type": "markdown",
   "id": "b87a3b18",
   "metadata": {},
   "source": [
    "## Логистическая регрессия ##"
   ]
  },
  {
   "cell_type": "code",
   "execution_count": 216,
   "id": "3172db7b",
   "metadata": {},
   "outputs": [
    {
     "name": "stdout",
     "output_type": "stream",
     "text": [
      "[LibLinear]"
     ]
    },
    {
     "data": {
      "text/plain": [
       "LogisticRegression(class_weight='balanced', penalty='l1', solver='liblinear',\n",
       "                   verbose=1)"
      ]
     },
     "execution_count": 216,
     "metadata": {},
     "output_type": "execute_result"
    }
   ],
   "source": [
    "LogReg = LogisticRegression(class_weight='balanced',\n",
    "                            penalty='l1',\n",
    "                            solver='liblinear',\n",
    "                            verbose=1)\n",
    "LogReg.fit(X_train, y_train)"
   ]
  },
  {
   "cell_type": "code",
   "execution_count": 217,
   "id": "343dd72b",
   "metadata": {},
   "outputs": [
    {
     "data": {
      "text/plain": [
       "0.8346666666666667"
      ]
     },
     "execution_count": 217,
     "metadata": {},
     "output_type": "execute_result"
    }
   ],
   "source": [
    "LogReg.score(X_test, y_test)"
   ]
  },
  {
   "cell_type": "code",
   "execution_count": 218,
   "id": "f7dedaa0",
   "metadata": {},
   "outputs": [],
   "source": [
    "preds = LogReg.predict(X_test)\n",
    "N = len(X_test)\n",
    "\n",
    "book = {\n",
    "    'высокая': [0, 0],\n",
    "    'низкая': [0, 0],\n",
    "    'средняя': [0, 0], \n",
    "} \n",
    "\n",
    "for i in range(N):\n",
    "    if preds[i] == y_test[i]:\n",
    "        book[y_test[i]][0] += 1\n",
    "    book[y_test[i]][1] += 1"
   ]
  },
  {
   "cell_type": "code",
   "execution_count": 219,
   "id": "92c52838",
   "metadata": {},
   "outputs": [
    {
     "data": {
      "text/plain": [
       "({'высокая': [305, 320], 'низкая': [3, 50], 'средняя': [5, 5]}, 375)"
      ]
     },
     "execution_count": 219,
     "metadata": {},
     "output_type": "execute_result"
    }
   ],
   "source": [
    "book, N"
   ]
  },
  {
   "cell_type": "code",
   "execution_count": null,
   "id": "8319f605",
   "metadata": {},
   "outputs": [],
   "source": []
  },
  {
   "cell_type": "markdown",
   "id": "f0a06caa",
   "metadata": {},
   "source": [
    "## Random Forest ##"
   ]
  },
  {
   "cell_type": "code",
   "execution_count": 220,
   "id": "262b7484",
   "metadata": {},
   "outputs": [],
   "source": [
    "forest_classif = RandomForestClassifier()"
   ]
  },
  {
   "cell_type": "code",
   "execution_count": 221,
   "id": "5052954c",
   "metadata": {},
   "outputs": [
    {
     "data": {
      "text/plain": [
       "RandomForestClassifier()"
      ]
     },
     "execution_count": 221,
     "metadata": {},
     "output_type": "execute_result"
    }
   ],
   "source": [
    "forest_classif.fit(X_train, y_train)"
   ]
  },
  {
   "cell_type": "code",
   "execution_count": 222,
   "id": "34f9de3c",
   "metadata": {},
   "outputs": [
    {
     "data": {
      "text/plain": [
       "0.856"
      ]
     },
     "execution_count": 222,
     "metadata": {},
     "output_type": "execute_result"
    }
   ],
   "source": [
    "forest_classif.score(X_test, y_test)"
   ]
  },
  {
   "cell_type": "code",
   "execution_count": 223,
   "id": "07bb4231",
   "metadata": {},
   "outputs": [],
   "source": [
    "preds = forest_classif.predict(X_test)\n",
    "N = len(X_test)\n",
    "\n",
    "book = {\n",
    "    'высокая': [0, 0],\n",
    "    'низкая': [0, 0],\n",
    "    'средняя': [0, 0], \n",
    "} \n",
    "\n",
    "for i in range(N):\n",
    "    if preds[i] == y_test[i]:\n",
    "        book[y_test[i]][0] += 1\n",
    "    book[y_test[i]][1] += 1"
   ]
  },
  {
   "cell_type": "code",
   "execution_count": 224,
   "id": "6aba8486",
   "metadata": {},
   "outputs": [
    {
     "data": {
      "text/plain": [
       "({'высокая': [309, 320], 'низкая': [7, 50], 'средняя': [5, 5]}, 375)"
      ]
     },
     "execution_count": 224,
     "metadata": {},
     "output_type": "execute_result"
    }
   ],
   "source": [
    "book, N"
   ]
  },
  {
   "cell_type": "code",
   "execution_count": null,
   "id": "7c19fd1a",
   "metadata": {},
   "outputs": [],
   "source": []
  },
  {
   "cell_type": "code",
   "execution_count": 232,
   "id": "a0dc0d86",
   "metadata": {},
   "outputs": [],
   "source": [
    "x_raw = data[features].to_numpy()"
   ]
  },
  {
   "cell_type": "code",
   "execution_count": 233,
   "id": "7de68dc7",
   "metadata": {},
   "outputs": [],
   "source": [
    "x = convert2float(x_raw, float, np.float32)"
   ]
  },
  {
   "cell_type": "code",
   "execution_count": 234,
   "id": "b3eaa3bb",
   "metadata": {},
   "outputs": [],
   "source": [
    "x = imp_mean.transform(x)"
   ]
  },
  {
   "cell_type": "code",
   "execution_count": 235,
   "id": "a1703b44",
   "metadata": {},
   "outputs": [],
   "source": [
    "x = scaler.transform(x)"
   ]
  },
  {
   "cell_type": "code",
   "execution_count": null,
   "id": "2fbdbf57",
   "metadata": {},
   "outputs": [],
   "source": []
  },
  {
   "cell_type": "code",
   "execution_count": 236,
   "id": "6d973218",
   "metadata": {},
   "outputs": [],
   "source": [
    "quality = forest_classif.predict_proba(x)"
   ]
  },
  {
   "cell_type": "code",
   "execution_count": 240,
   "id": "86a9436a",
   "metadata": {},
   "outputs": [
    {
     "data": {
      "text/plain": [
       "array([[9.96504925e-01, 3.43391255e-03, 6.11620795e-05],\n",
       "       [2.40000000e-01, 1.70000000e-01, 5.90000000e-01],\n",
       "       [9.65852965e-01, 3.41470351e-02, 0.00000000e+00],\n",
       "       ...,\n",
       "       [9.78252222e-01, 2.17477777e-02, 0.00000000e+00],\n",
       "       [9.50425939e-01, 4.95740606e-02, 0.00000000e+00],\n",
       "       [9.13373745e-01, 8.66262554e-02, 0.00000000e+00]])"
      ]
     },
     "execution_count": 240,
     "metadata": {},
     "output_type": "execute_result"
    }
   ],
   "source": [
    "quality"
   ]
  },
  {
   "cell_type": "code",
   "execution_count": 241,
   "id": "d3229a77",
   "metadata": {},
   "outputs": [
    {
     "data": {
      "text/plain": [
       "array([0.99650493, 0.24      , 0.96585296, ..., 0.97825222, 0.95042594,\n",
       "       0.91337374])"
      ]
     },
     "execution_count": 241,
     "metadata": {},
     "output_type": "execute_result"
    }
   ],
   "source": [
    "qual_to_add = quality[:, 0]\n",
    "qual_to_add"
   ]
  },
  {
   "cell_type": "code",
   "execution_count": 242,
   "id": "d7e65d10",
   "metadata": {},
   "outputs": [],
   "source": [
    "data['supplierRating'] = qual_to_add"
   ]
  },
  {
   "cell_type": "code",
   "execution_count": 245,
   "id": "adeeed39",
   "metadata": {},
   "outputs": [
    {
     "data": {
      "text/html": [
       "<div>\n",
       "<style scoped>\n",
       "    .dataframe tbody tr th:only-of-type {\n",
       "        vertical-align: middle;\n",
       "    }\n",
       "\n",
       "    .dataframe tbody tr th {\n",
       "        vertical-align: top;\n",
       "    }\n",
       "\n",
       "    .dataframe thead th {\n",
       "        text-align: right;\n",
       "    }\n",
       "</style>\n",
       "<table border=\"1\" class=\"dataframe\">\n",
       "  <thead>\n",
       "    <tr style=\"text-align: right;\">\n",
       "      <th></th>\n",
       "      <th>index</th>\n",
       "      <th>ogrn</th>\n",
       "      <th>reliability</th>\n",
       "      <th>reg_date</th>\n",
       "      <th>main_okved</th>\n",
       "      <th>additionalokveds</th>\n",
       "      <th>authorized_capital</th>\n",
       "      <th>workers</th>\n",
       "      <th>address</th>\n",
       "      <th>claimant</th>\n",
       "      <th>defendant</th>\n",
       "      <th>active_debts</th>\n",
       "      <th>completed_debts</th>\n",
       "      <th>status</th>\n",
       "      <th>RNP</th>\n",
       "      <th>facts</th>\n",
       "      <th>company_name</th>\n",
       "      <th>days_existed</th>\n",
       "      <th>supplierRating</th>\n",
       "    </tr>\n",
       "  </thead>\n",
       "  <tbody>\n",
       "    <tr>\n",
       "      <th>0</th>\n",
       "      <td>0</td>\n",
       "      <td>1072721007721</td>\n",
       "      <td>высокая</td>\n",
       "      <td>26.04.2007</td>\n",
       "      <td>68.20</td>\n",
       "      <td>[46.43.1, 46.43.3, 46.45.1, 46.49.33, 46.51, 4...</td>\n",
       "      <td>20000.0</td>\n",
       "      <td>8.0</td>\n",
       "      <td>край Хабаровский г Хабаровск ул Льва Толстого ...</td>\n",
       "      <td>17</td>\n",
       "      <td>1</td>\n",
       "      <td>0.0</td>\n",
       "      <td>0</td>\n",
       "      <td>1.0</td>\n",
       "      <td>0.0</td>\n",
       "      <td>{'good': '24', 'normal': '6', 'bad': '0'}</td>\n",
       "      <td>ООО СК \"ЛУННЫЙ СВЕТ\"</td>\n",
       "      <td>6002.0</td>\n",
       "      <td>0.996505</td>\n",
       "    </tr>\n",
       "    <tr>\n",
       "      <th>1</th>\n",
       "      <td>1</td>\n",
       "      <td>1097746252548</td>\n",
       "      <td>средняя</td>\n",
       "      <td>27.04.2009</td>\n",
       "      <td>62.01</td>\n",
       "      <td>[58, 61.1, 61.10.1, 61.10.9, 62.02, 62.09, 63....</td>\n",
       "      <td>20005040.0</td>\n",
       "      <td>123.0</td>\n",
       "      <td>г Москва ул Житная Д. 10, ЭТАЖ 1, ПОМЕЩ. VI - ...</td>\n",
       "      <td>57</td>\n",
       "      <td>73</td>\n",
       "      <td>0.0</td>\n",
       "      <td>4</td>\n",
       "      <td>1.0</td>\n",
       "      <td>0.0</td>\n",
       "      <td>{'good': '17', 'normal': '6', 'bad': '8'}</td>\n",
       "      <td>АО \"ОТС\"</td>\n",
       "      <td>5270.0</td>\n",
       "      <td>0.240000</td>\n",
       "    </tr>\n",
       "    <tr>\n",
       "      <th>2</th>\n",
       "      <td>2</td>\n",
       "      <td>318619600041146</td>\n",
       "      <td>None</td>\n",
       "      <td>06.03.2018</td>\n",
       "      <td>43.31</td>\n",
       "      <td>[13.92, 13.92.1, 13.92.2, 13.99, 28.23, 33.20,...</td>\n",
       "      <td>NaN</td>\n",
       "      <td>NaN</td>\n",
       "      <td>обл Ростовская</td>\n",
       "      <td>0</td>\n",
       "      <td>0</td>\n",
       "      <td>0.0</td>\n",
       "      <td>0</td>\n",
       "      <td>1.0</td>\n",
       "      <td>0.0</td>\n",
       "      <td>None</td>\n",
       "      <td>ИП АСКАЛЕПОВ С. Н.</td>\n",
       "      <td>2035.0</td>\n",
       "      <td>0.965853</td>\n",
       "    </tr>\n",
       "    <tr>\n",
       "      <th>3</th>\n",
       "      <td>3</td>\n",
       "      <td>1207700142616</td>\n",
       "      <td>высокая</td>\n",
       "      <td>27.03.2020</td>\n",
       "      <td>18.13</td>\n",
       "      <td>[18.12, 46.14.1, 46.15, 46.15.4, 46.15.9, 46.1...</td>\n",
       "      <td>10000.0</td>\n",
       "      <td>6.0</td>\n",
       "      <td>г Москва проезд Нагатинский 1-й Д. 6, СТР. 1, ...</td>\n",
       "      <td>455</td>\n",
       "      <td>0</td>\n",
       "      <td>0.0</td>\n",
       "      <td>0</td>\n",
       "      <td>1.0</td>\n",
       "      <td>0.0</td>\n",
       "      <td>{'good': '21', 'normal': '4', 'bad': '4'}</td>\n",
       "      <td>ООО \"ИНТЕРПАКС\"</td>\n",
       "      <td>1283.0</td>\n",
       "      <td>0.868658</td>\n",
       "    </tr>\n",
       "    <tr>\n",
       "      <th>4</th>\n",
       "      <td>4</td>\n",
       "      <td>1027402933040</td>\n",
       "      <td>высокая</td>\n",
       "      <td>30.12.2002</td>\n",
       "      <td>46.49</td>\n",
       "      <td>[22.22, 22.23, 22.29, 25.99, 43.21, 43.99, 46....</td>\n",
       "      <td>8400.0</td>\n",
       "      <td>53.0</td>\n",
       "      <td>обл Челябинская г Челябинск ул Телеграфная Д. 44</td>\n",
       "      <td>36</td>\n",
       "      <td>2</td>\n",
       "      <td>0.0</td>\n",
       "      <td>1</td>\n",
       "      <td>1.0</td>\n",
       "      <td>0.0</td>\n",
       "      <td>{'good': '19', 'normal': '8', 'bad': '2'}</td>\n",
       "      <td>ООО \"КАНЦБЮРО\"</td>\n",
       "      <td>7580.0</td>\n",
       "      <td>0.978333</td>\n",
       "    </tr>\n",
       "  </tbody>\n",
       "</table>\n",
       "</div>"
      ],
      "text/plain": [
       "   index             ogrn reliability    reg_date main_okved  \\\n",
       "0      0    1072721007721     высокая  26.04.2007      68.20   \n",
       "1      1    1097746252548     средняя  27.04.2009      62.01   \n",
       "2      2  318619600041146        None  06.03.2018      43.31   \n",
       "3      3    1207700142616     высокая  27.03.2020      18.13   \n",
       "4      4    1027402933040     высокая  30.12.2002      46.49   \n",
       "\n",
       "                                    additionalokveds  authorized_capital  \\\n",
       "0  [46.43.1, 46.43.3, 46.45.1, 46.49.33, 46.51, 4...             20000.0   \n",
       "1  [58, 61.1, 61.10.1, 61.10.9, 62.02, 62.09, 63....          20005040.0   \n",
       "2  [13.92, 13.92.1, 13.92.2, 13.99, 28.23, 33.20,...                 NaN   \n",
       "3  [18.12, 46.14.1, 46.15, 46.15.4, 46.15.9, 46.1...             10000.0   \n",
       "4  [22.22, 22.23, 22.29, 25.99, 43.21, 43.99, 46....              8400.0   \n",
       "\n",
       "   workers                                            address claimant  \\\n",
       "0      8.0  край Хабаровский г Хабаровск ул Льва Толстого ...       17   \n",
       "1    123.0  г Москва ул Житная Д. 10, ЭТАЖ 1, ПОМЕЩ. VI - ...       57   \n",
       "2      NaN                                     обл Ростовская        0   \n",
       "3      6.0  г Москва проезд Нагатинский 1-й Д. 6, СТР. 1, ...      455   \n",
       "4     53.0   обл Челябинская г Челябинск ул Телеграфная Д. 44       36   \n",
       "\n",
       "  defendant  active_debts completed_debts  status  RNP  \\\n",
       "0         1           0.0               0     1.0  0.0   \n",
       "1        73           0.0               4     1.0  0.0   \n",
       "2         0           0.0               0     1.0  0.0   \n",
       "3         0           0.0               0     1.0  0.0   \n",
       "4         2           0.0               1     1.0  0.0   \n",
       "\n",
       "                                       facts          company_name  \\\n",
       "0  {'good': '24', 'normal': '6', 'bad': '0'}  ООО СК \"ЛУННЫЙ СВЕТ\"   \n",
       "1  {'good': '17', 'normal': '6', 'bad': '8'}              АО \"ОТС\"   \n",
       "2                                       None    ИП АСКАЛЕПОВ С. Н.   \n",
       "3  {'good': '21', 'normal': '4', 'bad': '4'}       ООО \"ИНТЕРПАКС\"   \n",
       "4  {'good': '19', 'normal': '8', 'bad': '2'}        ООО \"КАНЦБЮРО\"   \n",
       "\n",
       "   days_existed  supplierRating  \n",
       "0        6002.0        0.996505  \n",
       "1        5270.0        0.240000  \n",
       "2        2035.0        0.965853  \n",
       "3        1283.0        0.868658  \n",
       "4        7580.0        0.978333  "
      ]
     },
     "execution_count": 245,
     "metadata": {},
     "output_type": "execute_result"
    }
   ],
   "source": [
    "data.head()"
   ]
  },
  {
   "cell_type": "code",
   "execution_count": 246,
   "id": "4d0d2f0e",
   "metadata": {},
   "outputs": [],
   "source": [
    "data.to_json('suppliers_with_rating.json')"
   ]
  },
  {
   "cell_type": "markdown",
   "id": "1bf61a81",
   "metadata": {},
   "source": [
    "## XGBoost ##"
   ]
  },
  {
   "cell_type": "code",
   "execution_count": 102,
   "id": "1e7b2cef",
   "metadata": {},
   "outputs": [],
   "source": [
    "from numpy import mean\n",
    "from sklearn.model_selection import cross_val_score\n",
    "from sklearn.model_selection import RepeatedStratifiedKFold\n",
    "import xgboost as xgb\n",
    "from xgboost import XGBClassifier"
   ]
  },
  {
   "cell_type": "code",
   "execution_count": 103,
   "id": "41c07fd3",
   "metadata": {},
   "outputs": [],
   "source": [
    "X = convert2float(X_raw, float, np.float32)\n",
    "y = convert2float(y_raw, str, '<U10').squeeze()"
   ]
  },
  {
   "cell_type": "code",
   "execution_count": 104,
   "id": "f29a5649",
   "metadata": {},
   "outputs": [
    {
     "data": {
      "text/plain": [
       "array(['высокая', 'средняя', 'высокая', ..., 'высокая', 'высокая',\n",
       "       'низкая'], dtype='<U10')"
      ]
     },
     "execution_count": 104,
     "metadata": {},
     "output_type": "execute_result"
    }
   ],
   "source": [
    "y"
   ]
  },
  {
   "cell_type": "code",
   "execution_count": 108,
   "id": "d6d9f74d",
   "metadata": {},
   "outputs": [],
   "source": [
    "size = np.count_nonzero(y != 'средняя')\n",
    "XBoost = np.zeros_like(X[:size])\n",
    "yBoost = np.zeros_like(y[:size], dtype=int)\n",
    "\n",
    "cnt = 0\n",
    "skip = 0\n",
    "while cnt < len(X):\n",
    "    if y[cnt] == 'средняя':\n",
    "        skip += 1\n",
    "    else:\n",
    "        XBoost[cnt-skip] = X[cnt]\n",
    "        if y[cnt] == 'высокая':\n",
    "            yBoost[cnt-skip] = 1\n",
    "        elif y[cnt] == 'низкая':\n",
    "            yBoost[cnt-skip] = 0 \n",
    "    cnt += 1"
   ]
  },
  {
   "cell_type": "code",
   "execution_count": 109,
   "id": "1eb0d305",
   "metadata": {},
   "outputs": [
    {
     "data": {
      "text/plain": [
       "array([1, 1, 1, 1, 0])"
      ]
     },
     "execution_count": 109,
     "metadata": {},
     "output_type": "execute_result"
    }
   ],
   "source": [
    "yBoost[-5:]"
   ]
  },
  {
   "cell_type": "code",
   "execution_count": 243,
   "id": "21c9ef3d",
   "metadata": {},
   "outputs": [],
   "source": [
    "model = XGBClassifier(scale_pos_weight=5.68)\n",
    "cv = RepeatedStratifiedKFold(n_splits=5, n_repeats=3, random_state=1)"
   ]
  },
  {
   "cell_type": "code",
   "execution_count": 244,
   "id": "a26ca9e4",
   "metadata": {},
   "outputs": [
    {
     "data": {
      "text/plain": [
       "array([0.91540785, 0.92675635, 0.92238806, 0.91044776, 0.92261002,\n",
       "       0.92631579, 0.91540785, 0.91566265, 0.92492492, 0.92030075,\n",
       "       0.92814371, 0.9246988 , 0.91591592, 0.92145015, 0.9246988 ])"
      ]
     },
     "execution_count": 244,
     "metadata": {},
     "output_type": "execute_result"
    }
   ],
   "source": [
    "scores = cross_val_score(model, XBoost, yBoost, \n",
    "                         scoring='f1', cv=cv, n_jobs=-1)\n",
    "scores"
   ]
  },
  {
   "cell_type": "code",
   "execution_count": null,
   "id": "91e8a237",
   "metadata": {},
   "outputs": [],
   "source": []
  }
 ],
 "metadata": {
  "kernelspec": {
   "display_name": "Python 3 (ipykernel)",
   "language": "python",
   "name": "python3"
  },
  "language_info": {
   "codemirror_mode": {
    "name": "ipython",
    "version": 3
   },
   "file_extension": ".py",
   "mimetype": "text/x-python",
   "name": "python",
   "nbconvert_exporter": "python",
   "pygments_lexer": "ipython3",
   "version": "3.9.16"
  }
 },
 "nbformat": 4,
 "nbformat_minor": 5
}
