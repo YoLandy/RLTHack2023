{
 "cells": [
  {
   "cell_type": "code",
   "execution_count": 2,
   "id": "737cd3fd",
   "metadata": {},
   "outputs": [],
   "source": [
    "import pandas as pd"
   ]
  },
  {
   "cell_type": "code",
   "execution_count": 5,
   "id": "7e7353bc",
   "metadata": {},
   "outputs": [],
   "source": [
    "otc = pd.read_csv('../OTCParse/data/otc_products.csv')\n",
    "berezka = pd.read_csv('../BEREZKAParse/data/berezka_products.csv')"
   ]
  },
  {
   "cell_type": "code",
   "execution_count": 12,
   "id": "cf72faa1",
   "metadata": {},
   "outputs": [
    {
     "data": {
      "text/plain": [
       "{'float_price'}"
      ]
     },
     "execution_count": 12,
     "metadata": {},
     "output_type": "execute_result"
    }
   ],
   "source": [
    "set(otc.columns)-  set(berezka.columns)\n"
   ]
  },
  {
   "cell_type": "code",
   "execution_count": 13,
   "id": "52af90cc",
   "metadata": {},
   "outputs": [
    {
     "data": {
      "text/plain": [
       "Index(['name', 'okpd-2', 'price', 'shipping_region', 'ogrn', 'inn',\n",
       "       'float_price', 'sys_float_price', 'sys_simple_name', 'sys_embbedings',\n",
       "       'description', 'reliability'],\n",
       "      dtype='object')"
      ]
     },
     "execution_count": 13,
     "metadata": {},
     "output_type": "execute_result"
    }
   ],
   "source": [
    "otc.columns"
   ]
  },
  {
   "cell_type": "code",
   "execution_count": 14,
   "id": "9e41b146",
   "metadata": {},
   "outputs": [
    {
     "data": {
      "text/plain": [
       "Index(['name', 'okpd-2', 'price', 'ogrn', 'inn', 'description',\n",
       "       'shipping_region', 'reliability', 'sys_float_price', 'sys_simple_name',\n",
       "       'sys_embbedings'],\n",
       "      dtype='object')"
      ]
     },
     "execution_count": 14,
     "metadata": {},
     "output_type": "execute_result"
    }
   ],
   "source": [
    "berezka.columns"
   ]
  },
  {
   "cell_type": "code",
   "execution_count": 15,
   "id": "38324da7",
   "metadata": {},
   "outputs": [],
   "source": [
    "del otc[\"float_price\"]"
   ]
  },
  {
   "cell_type": "code",
   "execution_count": 16,
   "id": "a89d3b66",
   "metadata": {},
   "outputs": [
    {
     "data": {
      "text/plain": [
       "set()"
      ]
     },
     "execution_count": 16,
     "metadata": {},
     "output_type": "execute_result"
    }
   ],
   "source": [
    "set(otc.columns)-  set(berezka.columns)\n"
   ]
  },
  {
   "cell_type": "code",
   "execution_count": 20,
   "id": "dfe284f1",
   "metadata": {},
   "outputs": [
    {
     "data": {
      "text/html": [
       "<div>\n",
       "<style scoped>\n",
       "    .dataframe tbody tr th:only-of-type {\n",
       "        vertical-align: middle;\n",
       "    }\n",
       "\n",
       "    .dataframe tbody tr th {\n",
       "        vertical-align: top;\n",
       "    }\n",
       "\n",
       "    .dataframe thead th {\n",
       "        text-align: right;\n",
       "    }\n",
       "</style>\n",
       "<table border=\"1\" class=\"dataframe\">\n",
       "  <thead>\n",
       "    <tr style=\"text-align: right;\">\n",
       "      <th></th>\n",
       "      <th>name</th>\n",
       "      <th>okpd-2</th>\n",
       "      <th>price</th>\n",
       "      <th>shipping_region</th>\n",
       "      <th>ogrn</th>\n",
       "      <th>inn</th>\n",
       "      <th>sys_float_price</th>\n",
       "      <th>sys_simple_name</th>\n",
       "      <th>sys_embbedings</th>\n",
       "      <th>description</th>\n",
       "      <th>reliability</th>\n",
       "    </tr>\n",
       "  </thead>\n",
       "  <tbody>\n",
       "    <tr>\n",
       "      <th>0</th>\n",
       "      <td>Модуль памяти Kingston VALUERAM KVR26N19S6/8 D...</td>\n",
       "      <td>26.20.1</td>\n",
       "      <td>3 530 ₽/шт</td>\n",
       "      <td>Все регионы</td>\n",
       "      <td>1.153443e+12</td>\n",
       "      <td>3459063755</td>\n",
       "      <td>3530.0</td>\n",
       "      <td>модуль памяти</td>\n",
       "      <td>[-0.54235935 -1.4277705   0.19967178 -0.343348...</td>\n",
       "      <td>Модуль памяти Kingston VALUERAM KVR26N19S6/8 D...</td>\n",
       "      <td>высокая</td>\n",
       "    </tr>\n",
       "    <tr>\n",
       "      <th>1</th>\n",
       "      <td>Устройство охлаждения(кулер) Aerocool Verkho A...</td>\n",
       "      <td>26.20.1</td>\n",
       "      <td>650 ₽/шт</td>\n",
       "      <td>Все регионы</td>\n",
       "      <td>1.153443e+12</td>\n",
       "      <td>3459063755</td>\n",
       "      <td>650.0</td>\n",
       "      <td>устройство охлаждениякулер</td>\n",
       "      <td>[-1.15884030e+00 -1.09898412e+00 -5.18654644e-...</td>\n",
       "      <td>Устройство охлаждения(кулер) Aerocool Verkho A...</td>\n",
       "      <td>высокая</td>\n",
       "    </tr>\n",
       "    <tr>\n",
       "      <th>2</th>\n",
       "      <td>Блок питания Xilence Red Wings XN052 500W</td>\n",
       "      <td>26.20.1</td>\n",
       "      <td>3 590 ₽/шт</td>\n",
       "      <td>Все регионы</td>\n",
       "      <td>1.153443e+12</td>\n",
       "      <td>3459063755</td>\n",
       "      <td>3590.0</td>\n",
       "      <td>блок питания</td>\n",
       "      <td>[-4.66093898e-01 -6.22358799e-01 -1.73774697e-...</td>\n",
       "      <td>Блок питания Xilence Red Wings XN052 500W</td>\n",
       "      <td>высокая</td>\n",
       "    </tr>\n",
       "    <tr>\n",
       "      <th>3</th>\n",
       "      <td>Клавиатура+мышь проводная SVEN KB-S330C черный</td>\n",
       "      <td>26.20.1</td>\n",
       "      <td>1 370 ₽/шт</td>\n",
       "      <td>Все регионы</td>\n",
       "      <td>1.153443e+12</td>\n",
       "      <td>3459063755</td>\n",
       "      <td>1370.0</td>\n",
       "      <td>клавиатурамышь проводная</td>\n",
       "      <td>[-1.11910689e+00 -5.20028353e-01 -9.66277793e-...</td>\n",
       "      <td>Клавиатура+мышь проводная SVEN KB-S330C черный</td>\n",
       "      <td>высокая</td>\n",
       "    </tr>\n",
       "    <tr>\n",
       "      <th>4</th>\n",
       "      <td>Термопаста Cooler Master IC-Value V1 шприц, 4....</td>\n",
       "      <td>26.20.1</td>\n",
       "      <td>1 810 ₽/шт</td>\n",
       "      <td>Все регионы</td>\n",
       "      <td>1.153443e+12</td>\n",
       "      <td>3459063755</td>\n",
       "      <td>1810.0</td>\n",
       "      <td>термопаста</td>\n",
       "      <td>[-1.25542259e+00 -4.48665231e-01  3.97536904e-...</td>\n",
       "      <td>Термопаста Cooler Master IC-Value V1 шприц, 4....</td>\n",
       "      <td>высокая</td>\n",
       "    </tr>\n",
       "  </tbody>\n",
       "</table>\n",
       "</div>"
      ],
      "text/plain": [
       "                                                name   okpd-2       price  \\\n",
       "0  Модуль памяти Kingston VALUERAM KVR26N19S6/8 D...  26.20.1  3 530 ₽/шт   \n",
       "1  Устройство охлаждения(кулер) Aerocool Verkho A...  26.20.1    650 ₽/шт   \n",
       "2          Блок питания Xilence Red Wings XN052 500W  26.20.1  3 590 ₽/шт   \n",
       "3     Клавиатура+мышь проводная SVEN KB-S330C черный  26.20.1  1 370 ₽/шт   \n",
       "4  Термопаста Cooler Master IC-Value V1 шприц, 4....  26.20.1  1 810 ₽/шт   \n",
       "\n",
       "  shipping_region          ogrn         inn  sys_float_price  \\\n",
       "0     Все регионы  1.153443e+12  3459063755           3530.0   \n",
       "1     Все регионы  1.153443e+12  3459063755            650.0   \n",
       "2     Все регионы  1.153443e+12  3459063755           3590.0   \n",
       "3     Все регионы  1.153443e+12  3459063755           1370.0   \n",
       "4     Все регионы  1.153443e+12  3459063755           1810.0   \n",
       "\n",
       "              sys_simple_name  \\\n",
       "0               модуль памяти   \n",
       "1  устройство охлаждениякулер   \n",
       "2                блок питания   \n",
       "3    клавиатурамышь проводная   \n",
       "4                  термопаста   \n",
       "\n",
       "                                      sys_embbedings  \\\n",
       "0  [-0.54235935 -1.4277705   0.19967178 -0.343348...   \n",
       "1  [-1.15884030e+00 -1.09898412e+00 -5.18654644e-...   \n",
       "2  [-4.66093898e-01 -6.22358799e-01 -1.73774697e-...   \n",
       "3  [-1.11910689e+00 -5.20028353e-01 -9.66277793e-...   \n",
       "4  [-1.25542259e+00 -4.48665231e-01  3.97536904e-...   \n",
       "\n",
       "                                         description reliability  \n",
       "0  Модуль памяти Kingston VALUERAM KVR26N19S6/8 D...     высокая  \n",
       "1  Устройство охлаждения(кулер) Aerocool Verkho A...     высокая  \n",
       "2          Блок питания Xilence Red Wings XN052 500W     высокая  \n",
       "3     Клавиатура+мышь проводная SVEN KB-S330C черный     высокая  \n",
       "4  Термопаста Cooler Master IC-Value V1 шприц, 4....     высокая  "
      ]
     },
     "execution_count": 20,
     "metadata": {},
     "output_type": "execute_result"
    }
   ],
   "source": [
    "df = pd.concat([otc, berezka], axis = 0)\n",
    "df.head()"
   ]
  },
  {
   "cell_type": "code",
   "execution_count": null,
   "id": "09cc5c98",
   "metadata": {},
   "outputs": [],
   "source": [
    "df.to_csv()"
   ]
  }
 ],
 "metadata": {
  "kernelspec": {
   "display_name": "Python 3.9 (tensorflow)",
   "language": "python",
   "name": "tensorflow"
  },
  "language_info": {
   "codemirror_mode": {
    "name": "ipython",
    "version": 3
   },
   "file_extension": ".py",
   "mimetype": "text/x-python",
   "name": "python",
   "nbconvert_exporter": "python",
   "pygments_lexer": "ipython3",
   "version": "3.9.13"
  }
 },
 "nbformat": 4,
 "nbformat_minor": 5
}
